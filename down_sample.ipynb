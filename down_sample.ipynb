{
  "nbformat": 4,
  "nbformat_minor": 0,
  "metadata": {
    "colab": {
      "name": "down_sample.ipynb",
      "provenance": [],
      "collapsed_sections": [],
      "authorship_tag": "ABX9TyNe6KqSpuFYeKYX2U67Pnj7",
      "include_colab_link": true
    },
    "kernelspec": {
      "name": "python3",
      "display_name": "Python 3"
    }
  },
  "cells": [
    {
      "cell_type": "markdown",
      "metadata": {
        "id": "view-in-github",
        "colab_type": "text"
      },
      "source": [
        "<a href=\"https://colab.research.google.com/github/mferoglu/freq/blob/main/down_sample.ipynb\" target=\"_parent\"><img src=\"https://colab.research.google.com/assets/colab-badge.svg\" alt=\"Open In Colab\"/></a>"
      ]
    },
    {
      "cell_type": "code",
      "metadata": {
        "id": "JiwBqmYxmVAC"
      },
      "source": [
        "import matplotlib.pyplot as plt\r\n",
        "import numpy as np"
      ],
      "execution_count": 1,
      "outputs": []
    },
    {
      "cell_type": "code",
      "metadata": {
        "colab": {
          "base_uri": "https://localhost:8080/",
          "height": 265
        },
        "id": "qBI0upzBl92c",
        "outputId": "9e741d95-243f-4c76-8de9-963ad7b67e31"
      },
      "source": [
        "with open(\"clustered\") as f:\r\n",
        "    data = f.read().splitlines() \r\n",
        "\r\n",
        "data=list(map(int,data))\r\n",
        "plt.plot(data)\r\n",
        "plt.show()"
      ],
      "execution_count": 17,
      "outputs": [
        {
          "output_type": "display_data",
          "data": {
            "image/png": "[encoded data removed]",
            "text/plain": [
              "<Figure size 432x288 with 1 Axes>"
            ]
          },
          "metadata": {
            "tags": [],
            "needs_background": "light"
          }
        }
      ]
    },
    {
      "cell_type": "code",
      "metadata": {
        "id": "DNEuyNeJmYVm"
      },
      "source": [
        "def window(list_taken,window_size):\r\n",
        "    ret_list = []\r\n",
        "    buffer = []\r\n",
        "\r\n",
        "    for a in list_taken:\r\n",
        "        if(len(buffer) == window_size):\r\n",
        "            if(len(np.unique(buffer))== 1):\r\n",
        "                ret_list.append(buffer[0])\r\n",
        "            buffer.clear()\r\n",
        "        \r\n",
        "        buffer.append(a)\r\n",
        "    return ret_list\r\n"
      ],
      "execution_count": 12,
      "outputs": []
    },
    {
      "cell_type": "code",
      "metadata": {
        "colab": {
          "base_uri": "https://localhost:8080/",
          "height": 282
        },
        "id": "fkIiaev7meqw",
        "outputId": "5349e188-7fd1-4371-c84e-f780909c68ff"
      },
      "source": [
        "new_data = window(data,15)\r\n",
        "plt.plot(new_data)\r\n",
        "plt.show()\r\n",
        "\r\n",
        "to_print = []\r\n",
        "to_print.append(6)\r\n",
        "for a in new_data:\r\n",
        "    if(to_print[-1] == a):\r\n",
        "        continue\r\n",
        "    else:\r\n",
        "        to_print.append(a)\r\n",
        "\r\n",
        "print(\"Down sampled data: \",*to_print)"
      ],
      "execution_count": 16,
      "outputs": [
        {
          "output_type": "display_data",
          "data": {
            "image/png": "[encoded data removed]",
            "text/plain": [
              "<Figure size 432x288 with 1 Axes>"
            ]
          },
          "metadata": {
            "tags": [],
            "needs_background": "light"
          }
        },
        {
          "output_type": "stream",
          "text": [
            "Down sampled data:  6 9 3 2 3 8 7 1 10 5 4\n"
          ],
          "name": "stdout"
        }
      ]
    }
  ]
}